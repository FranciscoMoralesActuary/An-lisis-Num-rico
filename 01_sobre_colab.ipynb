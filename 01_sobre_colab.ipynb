{
  "nbformat": 4,
  "nbformat_minor": 0,
  "metadata": {
    "colab": {
      "provenance": []
    },
    "kernelspec": {
      "name": "python3",
      "display_name": "Python 3"
    },
    "language_info": {
      "name": "python"
    }
  },
  "cells": [
    {
      "cell_type": "markdown",
      "source": [
        "#¿Qué es Colaboratory?\n",
        "\n",
        "Colab, también conocido como \"Colaboratory\", te permite programar y ejecutar Python (y otros lenguajes) en tu navegador con las siguientes ventajas:\n",
        "\n",
        "- No requiere configuración\n",
        "- Da acceso gratuito a GPUs\n",
        "- Permite compartir contenido fácilmente\n",
        "- Permite a más de un usuario editar el Notebook al mismo tiempo\n",
        "\n"
      ],
      "metadata": {
        "id": "8SclZkt1JlEs"
      }
    },
    {
      "cell_type": "markdown",
      "source": [
        "## Primeros pasos\n",
        "\n",
        "El documento que estás leyendo no es una página web estática, sino un entorno interactivo denominado cuaderno de Colab que te permite escribir y ejecutar código.\n",
        "\n",
        "Por ejemplo, a continuación se muestra una celda de código con una breve secuencia de comandos de Python"
      ],
      "metadata": {
        "id": "RaANr06cJp-v"
      }
    },
    {
      "cell_type": "code",
      "source": [
        "saludo = \"Hola Mundo en Python y Colab\""
      ],
      "metadata": {
        "id": "aiGxf8mZJvHq"
      },
      "execution_count": null,
      "outputs": []
    },
    {
      "cell_type": "code",
      "source": [
        "print(saludo)"
      ],
      "metadata": {
        "colab": {
          "base_uri": "https://localhost:8080/"
        },
        "id": "QomxpQa-9BTm",
        "outputId": "b33ee13b-a1c1-4c3c-c5ce-e8a87850703b"
      },
      "execution_count": null,
      "outputs": [
        {
          "output_type": "stream",
          "name": "stdout",
          "text": [
            "Hola Mundo en Python y Colab\n"
          ]
        }
      ]
    },
    {
      "cell_type": "markdown",
      "source": [
        "Los cuadernos de Colab te permiten combinar código ejecutable y texto enriquecido (principalmente con markdown) en un mismo documento, además de imágenes, HTML, LaTeX y mucho más. Al ser un servicio de Google, Colab tiene todas las ventajas de la suite de Google\n",
        "\n",
        "Los cuadernos de Colab son cuadernos de Jupyter alojados en Colab.\n",
        "\n",
        "\n",
        "Existen dos tipos de celdas: Texto y `codigo`."
      ],
      "metadata": {
        "id": "sF8MnXsXJ8wl"
      }
    },
    {
      "cell_type": "markdown",
      "source": [
        "# **Celdas de codigo**\n",
        "\n",
        "Cada celda de código nos permite tener bloque de código de forma independiente.\n",
        "\n",
        "**Observación**: Para ejecutar el código en la celda podemos dar click en el signo de \"play\" de la celda (esquina superior izquierda de la celda) o correr Ctrl+Enter o Command+Enter."
      ],
      "metadata": {
        "id": "InVmWZSkFSVf"
      }
    },
    {
      "cell_type": "code",
      "source": [
        "# Asigmanos variables\n",
        "x=10\n",
        "# Calculos\n",
        "y=x**3\n",
        "# Imprimir en pantalla\n",
        "print(\"El número es: \", y)"
      ],
      "metadata": {
        "colab": {
          "base_uri": "https://localhost:8080/"
        },
        "id": "B9NB8My8YgEt",
        "outputId": "5eb08b82-ddec-491b-b6d2-6d5bfbd51370"
      },
      "execution_count": null,
      "outputs": [
        {
          "output_type": "stream",
          "name": "stdout",
          "text": [
            "El número es:  1000\n"
          ]
        }
      ]
    },
    {
      "cell_type": "code",
      "source": [],
      "metadata": {
        "id": "MXKSlJqb7p37"
      },
      "execution_count": null,
      "outputs": []
    },
    {
      "cell_type": "markdown",
      "source": [
        "Vea que debajo de la celda nos muestra un resultado de la ejecución del código."
      ],
      "metadata": {
        "id": "vHw4IfJCGNsL"
      }
    },
    {
      "cell_type": "code",
      "source": [
        "y = 1\n",
        "\n",
        "\n",
        "print(y)"
      ],
      "metadata": {
        "colab": {
          "base_uri": "https://localhost:8080/"
        },
        "id": "Wt3jj6_hGZMX",
        "outputId": "2d958066-75f4-4f70-d458-71a6a0484fb0"
      },
      "execution_count": null,
      "outputs": [
        {
          "output_type": "stream",
          "name": "stdout",
          "text": [
            "1\n"
          ]
        }
      ]
    },
    {
      "cell_type": "markdown",
      "source": [
        "Hay que tener cuidado con las asignaciones de las variables y el orden con el que corren las celdas, pues es secuencia. Incluso podemos ver el orden de ejecución en cada celda al inicio de la celda (entre los corchetes --> [ n ])."
      ],
      "metadata": {
        "id": "jJ27KUuVGd1v"
      }
    },
    {
      "cell_type": "markdown",
      "source": [
        "# Celdas de Texto"
      ],
      "metadata": {
        "id": "uHZQ1xoqRaI0"
      }
    },
    {
      "cell_type": "markdown",
      "source": [
        "#¿Qué es Markdown?\n",
        "\n",
        "Las celdas de texto se les da formato usando un lenguaje de marcado simple llamado [Markdown](https://markdown.es/).\n",
        "\n",
        "![Imagen](https://desarrolloweb.com/storage/tag_images/actual/KIUj0JRDRiBDDrbWiIwjypvuv8KbtUg83rB3YuUL.png)\n",
        "\n",
        "**Markdown** es un lenguaje de marcado ligero creado por *John Gruber* que trata de conseguir la máxima legibilidad y facilidad de publicación tanto en su forma de entrada como de salida, inspirándose en muchas convenciones existentes para marcar mensajes de correo electrónico usando texto plano."
      ],
      "metadata": {
        "id": "fVRcWn61KArX"
      }
    },
    {
      "cell_type": "markdown",
      "source": [
        "## Sintaxis\n"
      ],
      "metadata": {
        "id": "Zp3Ef4UNqu3n"
      }
    },
    {
      "cell_type": "markdown",
      "source": [
        "\n",
        "Markdown | Visualización\n",
        "--- | ---\n",
        "`*Cursivas*`   | *Cursivas*\n",
        "`**Negritas**` | **Negritas**\n",
        "`~~Tachado~~`  | ~~Tachado~~\n",
        "`` `Código` `` | `Código`\n",
        "`[Enlace](https://www.google.com)` | [Google](https://www.google.com)\n",
        "`![Imagen](https://www.google.com/images/rss.png)` | ![Imagen](https://www.google.com/images/rss.png)\n"
      ],
      "metadata": {
        "id": "-scoHjQFKGW6"
      }
    },
    {
      "cell_type": "markdown",
      "source": [
        "# Texto\n",
        "## Texto\n",
        "### **Texto**\n",
        "#### Texto\n",
        "##### *Texto*\n",
        "###### Texto\n",
        "####### Texto –aqui ya no aporta\n",
        "\n",
        "**Negritas**\n",
        "\n",
        "*Italica*\n",
        "\n",
        "\n"
      ],
      "metadata": {
        "id": "Sm1MYUjfKV8T"
      }
    },
    {
      "cell_type": "markdown",
      "source": [
        "# ¿Qué es $\\LaTeX{}$?\n",
        "\n",
        "Es un sistema de composición de textos, orientado a la creación de documentos escritos que presenten una alta calidad tipográfica. Por sus características y posibilidades, es usado de forma especialmente intensa en la generación de artículos y libros científicos que incluyen, entre otros elementos, expresiones matemáticas.\n",
        "\n",
        "LaTeX está formado por un gran conjunto de macros de TeX, escrito por Leslie Lamport en 1984, con la intención de facilitar el uso del lenguaje de composición tipográfica, ${\\displaystyle \\mathbf{T\\!_{\\displaystyle E}\\!X}}$,  creado por Donald Knuth. Es muy utilizado para la composición de artículos académicos, tesis y libros técnicos, dado que la calidad tipográfica de los documentos realizados en LaTeX, se considera adecuada a las necesidades de una editorial científica de primera línea, muchas de las cuales ya lo emplean.\n",
        "\n",
        "LaTeX es software libre bajo licencia LPPL."
      ],
      "metadata": {
        "id": "NVegj_fuLy_U"
      }
    },
    {
      "cell_type": "markdown",
      "source": [
        "$$y=x^2$$\n",
        "\n",
        "$$\\int_{a}^{b}\\Gamma(x)dx=F(b)$$\n",
        "\n",
        "$$e^{i\\pi} + 1 = 0$$\n",
        "\n",
        "$$e^x=\\displaystyle\\sum_{i=0}^\\infty \\frac{1}{i!}x^i$$\n",
        "\n",
        "$$\\frac{n!}{k!(n-k)!} = {n \\choose k}$$\n",
        "\n",
        "$$A_{m,n} =\n",
        " \\begin{pmatrix}\n",
        "  a_{1,1} & a_{1,2} & \\cdots & a_{1,n} \\\\\n",
        "  a_{2,1} & a_{2,2} & \\cdots & a_{2,n} \\\\\n",
        "  \\vdots  & \\vdots  & \\ddots & \\vdots  \\\\\n",
        "  a_{m,1} & a_{m,2} & \\cdots & a_{m,n}\n",
        " \\end{pmatrix}$$\n",
        "\n",
        "\n",
        "\n",
        "Aqui les dejo unos cuantos recursos para ecuaciones en $\\LaTeX{}$\n",
        "\n",
        "+ [Alciro](http://www.alciro.org/tools/matematicas/editor-ecuaciones.jsp)\n",
        "+ [Codecogs](https://latex.codecogs.com/legacy/eqneditor/editor.php?lang=es-es)\n",
        "+ [Simbolos](https://manualdelatex.com/simbolos)\n"
      ],
      "metadata": {
        "id": "DCG5ciHEL2SB"
      }
    },
    {
      "cell_type": "markdown",
      "source": [
        "# Comandos más utilizados"
      ],
      "metadata": {
        "id": "7qRU91Mf_-Aj"
      }
    },
    {
      "cell_type": "markdown",
      "source": [
        "| Acción                             | Atajo                      |\n",
        "|------------------------------------|----------------------------|\n",
        "| Ejecutar la celda e insertar una nueva | Alt + Enter           |\n",
        "| Ejecutar la celda enfocada         | Ctrl + Enter               |\n",
        "| Ejecutar la celda y seleccionar la siguiente | Shift + Enter   |\n",
        "| Ejecutar todas las celdas          | Ctrl + F9                  |\n",
        "| Guardar Notebook                   | Ctrl + S               |\n",
        "| Insertar celda de código abajo     | Ctrl + M + B               |\n",
        "| Insertar celda de código arriba    | Ctrl + M + A               |\n",
        "| Interrumpir la ejecución           | Ctrl + M + I               |\n",
        "| Buscar y Reemplazar                | Ctrl + H                   |\n",
        "| Abrir celda de código temporal     | Ctrl + Alt + N             |\n",
        "| Borrar celda seleccionada          | Ctrl + M + D               |\n",
        "| Mostrar paleta de comandos         | Ctrl + Shift + P           |\n"
      ],
      "metadata": {
        "id": "l2SLSc2wQOkm"
      }
    },
    {
      "cell_type": "markdown",
      "source": [
        " Por último un ejemplo de un entregable en colab\n",
        "\n",
        "[Entregable](https://colab.research.google.com/drive/1rupLKXljprrmKlRqfMNlF8_7sNd1F37i?usp=sharing)"
      ],
      "metadata": {
        "id": "Oxxi_Qal32bl"
      }
    },
    {
      "cell_type": "markdown",
      "source": [],
      "metadata": {
        "id": "cFd_f5vRTw5y"
      }
    },
    {
      "cell_type": "code",
      "source": [],
      "metadata": {
        "id": "BCw4qSo4Twr_"
      },
      "execution_count": null,
      "outputs": []
    },
    {
      "cell_type": "code",
      "source": [],
      "metadata": {
        "id": "xAFniIgA3vKL"
      },
      "execution_count": null,
      "outputs": []
    },
    {
      "cell_type": "code",
      "source": [],
      "metadata": {
        "id": "cHpu5wr6lsC9"
      },
      "execution_count": null,
      "outputs": []
    }
  ]
}